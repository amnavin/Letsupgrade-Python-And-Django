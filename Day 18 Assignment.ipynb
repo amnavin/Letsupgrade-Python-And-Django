{
 "cells": [
  {
   "cell_type": "code",
   "execution_count": 2,
   "metadata": {},
   "outputs": [],
   "source": [
    "import os\n",
    "root=\"D:\\\\companies\\\\google\"\n",
    "for root,dir,files in os.walk(root):\n",
    "  for f in files:\n",
    "    path=root+\"\\\\\"+f\n",
    "    print(path)\n",
    "\n",
    "def check_string_in_file(f, string_to_search):\n",
    "    with open(file_name, 'r') as read_obj:\n",
    "        for line in read_obj:\n",
    "            if string_to_search in line:\n",
    "                return True\n",
    "    return False\n",
    "    with open(f) as myFile:\n",
    "        for num, line in enumerate(myFile, 1):\n",
    "             if lookup in line:\n",
    "               print('found at line:', num)"
   ]
  },
  {
   "cell_type": "code",
   "execution_count": null,
   "metadata": {},
   "outputs": [],
   "source": []
  }
 ],
 "metadata": {
  "kernelspec": {
   "display_name": "Python 3",
   "language": "python",
   "name": "python3"
  },
  "language_info": {
   "codemirror_mode": {
    "name": "ipython",
    "version": 3
   },
   "file_extension": ".py",
   "mimetype": "text/x-python",
   "name": "python",
   "nbconvert_exporter": "python",
   "pygments_lexer": "ipython3",
   "version": "3.7.3"
  }
 },
 "nbformat": 4,
 "nbformat_minor": 2
}
